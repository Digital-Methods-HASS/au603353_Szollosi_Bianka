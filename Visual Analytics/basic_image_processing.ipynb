{
 "cells": [
  {
   "cell_type": "markdown",
   "metadata": {},
   "source": [
    "## Assignment 1- Basic image processing\n",
    "by Bianka Szöllősi"
   ]
  },
  {
   "cell_type": "markdown",
   "metadata": {},
   "source": [
    "__Importing libraries and reading in images__"
   ]
  },
  {
   "cell_type": "code",
   "execution_count": 2,
   "metadata": {},
   "outputs": [],
   "source": [
    "#loading in libraries\n",
    "import os\n",
    "import numpy as np\n",
    "import sys\n",
    "import cv2\n",
    "from pathlib import Path\n",
    "from glob import glob\n",
    "import pandas as pd"
   ]
  },
  {
   "cell_type": "code",
   "execution_count": 3,
   "metadata": {},
   "outputs": [],
   "source": [
    "#reading path to images\n",
    "path_to_image = os.path.join(\"..\", \"pokemon_images\")"
   ]
  },
  {
   "cell_type": "code",
   "execution_count": 4,
   "metadata": {},
   "outputs": [
    {
     "name": "stdout",
     "output_type": "stream",
     "text": [
      "../pokemon_images/clefable.jpg\n",
      "../pokemon_images/swinub.jpg\n",
      "../pokemon_images/tyranitar.jpg\n",
      "../pokemon_images/slakoth.jpg\n",
      "../pokemon_images/togepi.jpg\n",
      "../pokemon_images/absol.jpg\n",
      "../pokemon_images/salamence.jpg\n",
      "../pokemon_images/shinx.jpg\n",
      "../pokemon_images/pikachu.jpg\n",
      "../pokemon_images/trapinch.jpg\n",
      "../pokemon_images/vulpix.jpg\n",
      "../pokemon_images/charmander.jpg\n",
      "../pokemon_images/jigglypuff.jpg\n",
      "../pokemon_images/chansey.jpg\n",
      "../pokemon_images/cyndaquil.jpg\n",
      "../pokemon_images/dragonite.jpg\n",
      "../pokemon_images/zapdos.jpg\n",
      "../pokemon_images/rapidash.jpg\n",
      "../pokemon_images/corsola.jpg\n",
      "../pokemon_images/eevee.jpg\n",
      "../pokemon_images/ditto.jpg\n"
     ]
    }
   ],
   "source": [
    "#printing each file name\n",
    "for image_name in Path(path_to_image).glob(\"*.jpg\"):\n",
    "    print(image_name)"
   ]
  },
  {
   "cell_type": "code",
   "execution_count": 5,
   "metadata": {},
   "outputs": [],
   "source": [
    "#making a new image path so that the loops are easier to make\n",
    "img_path = os.path.join(\"..\", \"pokemon_images\", \"*.jpg\")"
   ]
  },
  {
   "cell_type": "code",
   "execution_count": 6,
   "metadata": {},
   "outputs": [],
   "source": [
    "#making list of image names\n",
    "img_names = glob(img_path)"
   ]
  },
  {
   "cell_type": "markdown",
   "metadata": {},
   "source": [
    "__Finding the height, width and number of channels for each image__"
   ]
  },
  {
   "cell_type": "code",
   "execution_count": 7,
   "metadata": {},
   "outputs": [
    {
     "name": "stdout",
     "output_type": "stream",
     "text": [
      "(120, 120, 3)\n",
      "(120, 120, 3)\n",
      "(120, 120, 3)\n",
      "(120, 120, 3)\n",
      "(120, 120, 3)\n",
      "(120, 120, 3)\n",
      "(120, 120, 3)\n",
      "(120, 120, 3)\n",
      "(120, 120, 3)\n",
      "(120, 120, 3)\n",
      "(120, 120, 3)\n",
      "(120, 120, 3)\n",
      "(120, 120, 3)\n",
      "(120, 120, 3)\n",
      "(120, 120, 3)\n",
      "(120, 120, 3)\n",
      "(120, 120, 3)\n",
      "(120, 120, 3)\n",
      "(120, 120, 3)\n",
      "(120, 120, 3)\n",
      "(120, 120, 3)\n"
     ]
    }
   ],
   "source": [
    "for file in img_names:\n",
    "    img = cv2.imread(file)\n",
    "    print(img.shape)"
   ]
  },
  {
   "cell_type": "markdown",
   "metadata": {},
   "source": [
    "Height = 120\n",
    "\n",
    "Width = 120\n",
    "\n",
    "Number of channels = 3"
   ]
  },
  {
   "cell_type": "markdown",
   "metadata": {},
   "source": [
    "__Splitting image into 4 equal quadrants and saving them as jpg__"
   ]
  },
  {
   "cell_type": "code",
   "execution_count": null,
   "metadata": {},
   "outputs": [],
   "source": [
    "#needed to install \"image_slicer\" package\n",
    "#pip install image_slicer"
   ]
  },
  {
   "cell_type": "code",
   "execution_count": 8,
   "metadata": {},
   "outputs": [],
   "source": [
    "#importing new package\n",
    "import image_slicer"
   ]
  },
  {
   "cell_type": "code",
   "execution_count": 9,
   "metadata": {},
   "outputs": [],
   "source": [
    "#creating a loop for slicing each image into 4 equal parts (the \"image_slicer.slice\" command automatically saves the resulting pictures)\n",
    "for file in img_names:\n",
    "    img = cv2.imread(file)\n",
    "    image_slicer.slice(file, 4) #I realize it returns png pictures, but I couldn't fix it"
   ]
  },
  {
   "cell_type": "markdown",
   "metadata": {},
   "source": [
    "__Creating and saving a dataframe with filename, width and height for the new images__"
   ]
  },
  {
   "cell_type": "code",
   "execution_count": 14,
   "metadata": {},
   "outputs": [
    {
     "data": {
      "text/plain": [
       "['zapdos_02_02.png',\n",
       " 'vulpix_01_01.png',\n",
       " 'salamence_01_01.png',\n",
       " 'charmander_02_02.png',\n",
       " 'clefable_01_01.png',\n",
       " 'ditto_02_02.png',\n",
       " 'corsola_01_01.png',\n",
       " 'pikachu_01_01.png',\n",
       " 'absol_02_01.png',\n",
       " 'slakoth_01_01.png',\n",
       " 'cyndaquil_02_01.png',\n",
       " 'dragonite_01_02.png',\n",
       " 'dragonite_02_01.png',\n",
       " 'eevee_02_02.png',\n",
       " 'salamence_02_02.png',\n",
       " 'ditto_01_01.png',\n",
       " 'clefable_02_02.png',\n",
       " 'chansey_01_02.png',\n",
       " 'shinx_02_01.png',\n",
       " 'pikachu_01_02.png',\n",
       " 'chansey_02_01.png',\n",
       " 'dragonite_02_02.png',\n",
       " 'slakoth_02_02.png',\n",
       " 'eevee_01_02.png',\n",
       " 'vulpix_01_02.png',\n",
       " 'chansey_01_01.png',\n",
       " 'slakoth_02_01.png',\n",
       " 'dragonite_01_01.png',\n",
       " 'ditto_01_02.png',\n",
       " 'jigglypuff_01_02.png',\n",
       " 'cyndaquil_01_01.png',\n",
       " 'shinx_01_02.png',\n",
       " 'jigglypuff_01_01.png',\n",
       " 'zapdos_01_01.png',\n",
       " 'cyndaquil_02_02.png',\n",
       " 'togepi_01_02.png',\n",
       " 'tyranitar_02_02.png',\n",
       " 'clefable_01_02.png',\n",
       " 'swinub_02_01.png',\n",
       " 'chansey_02_02.png',\n",
       " 'rapidash_02_02.png',\n",
       " 'tyranitar_01_01.png',\n",
       " 'corsola_02_02.png',\n",
       " 'vulpix_02_02.png',\n",
       " 'rapidash_01_01.png',\n",
       " 'togepi_01_01.png',\n",
       " 'absol_02_02.png',\n",
       " 'trapinch_01_01.png',\n",
       " 'shinx_01_01.png',\n",
       " 'pikachu_02_01.png',\n",
       " 'salamence_02_01.png',\n",
       " 'trapinch_02_02.png',\n",
       " 'jigglypuff_02_02.png',\n",
       " 'tyranitar_01_02.png',\n",
       " 'eevee_01_01.png',\n",
       " 'zapdos_01_02.png',\n",
       " 'swinub_02_02.png',\n",
       " 'pikachu_02_02.png',\n",
       " 'togepi_02_01.png',\n",
       " 'vulpix_02_01.png',\n",
       " 'salamence_01_02.png',\n",
       " 'absol_01_02.png',\n",
       " 'corsola_02_01.png',\n",
       " 'shinx_02_02.png',\n",
       " 'charmander_02_01.png',\n",
       " 'swinub_01_02.png',\n",
       " 'rapidash_02_01.png',\n",
       " 'charmander_01_01.png',\n",
       " 'absol_01_01.png',\n",
       " 'swinub_01_01.png',\n",
       " 'togepi_02_02.png',\n",
       " 'cyndaquil_01_02.png',\n",
       " 'jigglypuff_02_01.png',\n",
       " 'tyranitar_02_01.png',\n",
       " 'slakoth_01_02.png',\n",
       " 'charmander_01_02.png',\n",
       " 'rapidash_01_02.png',\n",
       " 'zapdos_02_01.png',\n",
       " 'corsola_01_02.png',\n",
       " 'clefable_02_01.png',\n",
       " 'eevee_02_01.png',\n",
       " 'trapinch_02_01.png',\n",
       " 'trapinch_01_02.png',\n",
       " 'ditto_02_01.png']"
      ]
     },
     "execution_count": 14,
     "metadata": {},
     "output_type": "execute_result"
    }
   ],
   "source": [
    "#list of the image names\n",
    "image_list = [os.path.basename(image_name) for image_name in Path(path_to_image).glob(\"*.png\")] #I realize it only works with the *.png ending because I couldn't save it as a jpg file\n",
    "image_list"
   ]
  },
  {
   "cell_type": "code",
   "execution_count": 15,
   "metadata": {},
   "outputs": [
    {
     "name": "stdout",
     "output_type": "stream",
     "text": [
      "(120, 120, 3)\n",
      "(120, 120, 3)\n",
      "(120, 120, 3)\n",
      "(120, 120, 3)\n",
      "(120, 120, 3)\n",
      "(120, 120, 3)\n",
      "(120, 120, 3)\n",
      "(120, 120, 3)\n",
      "(120, 120, 3)\n",
      "(120, 120, 3)\n",
      "(120, 120, 3)\n",
      "(120, 120, 3)\n",
      "(120, 120, 3)\n",
      "(120, 120, 3)\n",
      "(120, 120, 3)\n",
      "(120, 120, 3)\n",
      "(120, 120, 3)\n",
      "(120, 120, 3)\n",
      "(120, 120, 3)\n",
      "(120, 120, 3)\n",
      "(120, 120, 3)\n",
      "(120, 120, 3)\n",
      "(120, 120, 3)\n",
      "(120, 120, 3)\n",
      "(120, 120, 3)\n",
      "(120, 120, 3)\n",
      "(120, 120, 3)\n",
      "(120, 120, 3)\n",
      "(120, 120, 3)\n",
      "(120, 120, 3)\n",
      "(120, 120, 3)\n",
      "(120, 120, 3)\n",
      "(120, 120, 3)\n",
      "(120, 120, 3)\n",
      "(120, 120, 3)\n",
      "(120, 120, 3)\n",
      "(120, 120, 3)\n",
      "(120, 120, 3)\n",
      "(120, 120, 3)\n",
      "(120, 120, 3)\n",
      "(120, 120, 3)\n",
      "(120, 120, 3)\n",
      "(120, 120, 3)\n",
      "(120, 120, 3)\n",
      "(120, 120, 3)\n",
      "(120, 120, 3)\n",
      "(120, 120, 3)\n",
      "(120, 120, 3)\n",
      "(120, 120, 3)\n",
      "(120, 120, 3)\n",
      "(120, 120, 3)\n",
      "(120, 120, 3)\n",
      "(120, 120, 3)\n",
      "(120, 120, 3)\n",
      "(120, 120, 3)\n",
      "(120, 120, 3)\n",
      "(120, 120, 3)\n",
      "(120, 120, 3)\n",
      "(120, 120, 3)\n",
      "(120, 120, 3)\n",
      "(120, 120, 3)\n",
      "(120, 120, 3)\n",
      "(120, 120, 3)\n",
      "(120, 120, 3)\n",
      "(120, 120, 3)\n",
      "(120, 120, 3)\n",
      "(120, 120, 3)\n",
      "(120, 120, 3)\n",
      "(120, 120, 3)\n",
      "(120, 120, 3)\n",
      "(120, 120, 3)\n",
      "(120, 120, 3)\n",
      "(120, 120, 3)\n",
      "(120, 120, 3)\n",
      "(120, 120, 3)\n",
      "(120, 120, 3)\n",
      "(120, 120, 3)\n",
      "(120, 120, 3)\n",
      "(120, 120, 3)\n",
      "(120, 120, 3)\n",
      "(120, 120, 3)\n",
      "(120, 120, 3)\n",
      "(120, 120, 3)\n",
      "(120, 120, 3)\n"
     ]
    }
   ],
   "source": [
    "#getting heigth and width for the new images\n",
    "for image_name in Path(path_to_image).glob(\"*.png\"): #I realize it only works with the *.png ending because I couldn't save it as a jpg file\n",
    "    img = cv2.imread(file)\n",
    "    print(img.shape) #seems to be the same shape as original, any idea why?"
   ]
  },
  {
   "cell_type": "code",
   "execution_count": 21,
   "metadata": {},
   "outputs": [
    {
     "data": {
      "text/plain": [
       "[120,\n",
       " 120,\n",
       " 120,\n",
       " 120,\n",
       " 120,\n",
       " 120,\n",
       " 120,\n",
       " 120,\n",
       " 120,\n",
       " 120,\n",
       " 120,\n",
       " 120,\n",
       " 120,\n",
       " 120,\n",
       " 120,\n",
       " 120,\n",
       " 120,\n",
       " 120,\n",
       " 120,\n",
       " 120,\n",
       " 120,\n",
       " 120,\n",
       " 120,\n",
       " 120,\n",
       " 120,\n",
       " 120,\n",
       " 120,\n",
       " 120,\n",
       " 120,\n",
       " 120,\n",
       " 120,\n",
       " 120,\n",
       " 120,\n",
       " 120,\n",
       " 120,\n",
       " 120,\n",
       " 120,\n",
       " 120,\n",
       " 120,\n",
       " 120,\n",
       " 120,\n",
       " 120,\n",
       " 120,\n",
       " 120,\n",
       " 120,\n",
       " 120,\n",
       " 120,\n",
       " 120,\n",
       " 120,\n",
       " 120,\n",
       " 120,\n",
       " 120,\n",
       " 120,\n",
       " 120,\n",
       " 120,\n",
       " 120,\n",
       " 120,\n",
       " 120,\n",
       " 120,\n",
       " 120,\n",
       " 120,\n",
       " 120,\n",
       " 120,\n",
       " 120,\n",
       " 120,\n",
       " 120,\n",
       " 120,\n",
       " 120,\n",
       " 120,\n",
       " 120,\n",
       " 120,\n",
       " 120,\n",
       " 120,\n",
       " 120,\n",
       " 120,\n",
       " 120,\n",
       " 120,\n",
       " 120,\n",
       " 120,\n",
       " 120,\n",
       " 120,\n",
       " 120,\n",
       " 120,\n",
       " 120]"
      ]
     },
     "execution_count": 21,
     "metadata": {},
     "output_type": "execute_result"
    }
   ],
   "source": [
    "#list of the image heigths\n",
    "image_heigth = [img.shape[0] for image_name in Path(path_to_image).glob(\"*.png\")] #I realize it only works with the *.png ending because I couldn't save it as a jpg file\n",
    "image_heigth"
   ]
  },
  {
   "cell_type": "code",
   "execution_count": 20,
   "metadata": {},
   "outputs": [
    {
     "data": {
      "text/plain": [
       "[120,\n",
       " 120,\n",
       " 120,\n",
       " 120,\n",
       " 120,\n",
       " 120,\n",
       " 120,\n",
       " 120,\n",
       " 120,\n",
       " 120,\n",
       " 120,\n",
       " 120,\n",
       " 120,\n",
       " 120,\n",
       " 120,\n",
       " 120,\n",
       " 120,\n",
       " 120,\n",
       " 120,\n",
       " 120,\n",
       " 120,\n",
       " 120,\n",
       " 120,\n",
       " 120,\n",
       " 120,\n",
       " 120,\n",
       " 120,\n",
       " 120,\n",
       " 120,\n",
       " 120,\n",
       " 120,\n",
       " 120,\n",
       " 120,\n",
       " 120,\n",
       " 120,\n",
       " 120,\n",
       " 120,\n",
       " 120,\n",
       " 120,\n",
       " 120,\n",
       " 120,\n",
       " 120,\n",
       " 120,\n",
       " 120,\n",
       " 120,\n",
       " 120,\n",
       " 120,\n",
       " 120,\n",
       " 120,\n",
       " 120,\n",
       " 120,\n",
       " 120,\n",
       " 120,\n",
       " 120,\n",
       " 120,\n",
       " 120,\n",
       " 120,\n",
       " 120,\n",
       " 120,\n",
       " 120,\n",
       " 120,\n",
       " 120,\n",
       " 120,\n",
       " 120,\n",
       " 120,\n",
       " 120,\n",
       " 120,\n",
       " 120,\n",
       " 120,\n",
       " 120,\n",
       " 120,\n",
       " 120,\n",
       " 120,\n",
       " 120,\n",
       " 120,\n",
       " 120,\n",
       " 120,\n",
       " 120,\n",
       " 120,\n",
       " 120,\n",
       " 120,\n",
       " 120,\n",
       " 120,\n",
       " 120]"
      ]
     },
     "execution_count": 20,
     "metadata": {},
     "output_type": "execute_result"
    }
   ],
   "source": [
    "#list of the image heigths\n",
    "image_width = [img.shape[1] for image_name in Path(path_to_image).glob(\"*.png\")] #I realize it only works with the *.png ending because I couldn't save it as a jpg file\n",
    "image_width"
   ]
  },
  {
   "cell_type": "code",
   "execution_count": 24,
   "metadata": {},
   "outputs": [],
   "source": [
    "#creating data frame\n",
    "df = pd.DataFrame()\n",
    "df['filename']  = image_list\n",
    "df['width']  = image_width\n",
    "df['heigth']  = image_heigth"
   ]
  },
  {
   "cell_type": "code",
   "execution_count": 25,
   "metadata": {},
   "outputs": [
    {
     "name": "stdout",
     "output_type": "stream",
     "text": [
      "                filename  width  heigth\n",
      "0       zapdos_02_02.png    120     120\n",
      "1       vulpix_01_01.png    120     120\n",
      "2    salamence_01_01.png    120     120\n",
      "3   charmander_02_02.png    120     120\n",
      "4     clefable_01_01.png    120     120\n",
      "..                   ...    ...     ...\n",
      "79    clefable_02_01.png    120     120\n",
      "80       eevee_02_01.png    120     120\n",
      "81    trapinch_02_01.png    120     120\n",
      "82    trapinch_01_02.png    120     120\n",
      "83       ditto_02_01.png    120     120\n",
      "\n",
      "[84 rows x 3 columns]\n"
     ]
    }
   ],
   "source": [
    "#viewing df\n",
    "print(df)"
   ]
  },
  {
   "cell_type": "code",
   "execution_count": 26,
   "metadata": {},
   "outputs": [],
   "source": [
    "#saving df\n",
    "outpath = os.path.join(\"..\", \"data\", \"image_df.txt\")\n",
    "df.to_csv(outpath, index = False)"
   ]
  },
  {
   "cell_type": "code",
   "execution_count": null,
   "metadata": {},
   "outputs": [],
   "source": []
  }
 ],
 "metadata": {
  "kernelspec": {
   "display_name": "cv101",
   "language": "python",
   "name": "cv101"
  },
  "language_info": {
   "codemirror_mode": {
    "name": "ipython",
    "version": 3
   },
   "file_extension": ".py",
   "mimetype": "text/x-python",
   "name": "python",
   "nbconvert_exporter": "python",
   "pygments_lexer": "ipython3",
   "version": "3.6.9"
  }
 },
 "nbformat": 4,
 "nbformat_minor": 4
}
